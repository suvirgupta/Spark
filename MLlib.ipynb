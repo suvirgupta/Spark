{
 "cells": [
  {
   "cell_type": "code",
   "execution_count": 1,
   "metadata": {
    "collapsed": true
   },
   "outputs": [],
   "source": [
    "\n",
    "uadatapath=\"hdfs:///user/swethakolalapudi/audio/user_artist_data.txt\"\n",
    "rawUserArtistData = sc.textFile(uadatapath)"
   ]
  },
  {
   "cell_type": "code",
   "execution_count": 2,
   "metadata": {
    "collapsed": false
   },
   "outputs": [
    {
     "data": {
      "text/plain": [
       "[u'1000002 1 55',\n",
       " u'1000002 1000006 33',\n",
       " u'1000002 1000007 8',\n",
       " u'1000002 1000009 144',\n",
       " u'1000002 1000010 314',\n",
       " u'1000002 1000013 8',\n",
       " u'1000002 1000014 42',\n",
       " u'1000002 1000017 69',\n",
       " u'1000002 1000024 329',\n",
       " u'1000002 1000025 1']"
      ]
     },
     "execution_count": 2,
     "metadata": {},
     "output_type": "execute_result"
    }
   ],
   "source": [
    "rawUserArtistData.take(10)"
   ]
  },
  {
   "cell_type": "code",
   "execution_count": 3,
   "metadata": {
    "collapsed": false
   },
   "outputs": [
    {
     "data": {
      "text/plain": [
       "(count: 24296858, mean: 15.2957624809, stdev: 153.915321302, max: 439771.0, min: 1.0)"
      ]
     },
     "execution_count": 3,
     "metadata": {},
     "output_type": "execute_result"
    }
   ],
   "source": [
    "rawUserArtistData.map(lambda x:float(x.split(\" \")[2])).stats()"
   ]
  },
  {
   "cell_type": "code",
   "execution_count": 4,
   "metadata": {
    "collapsed": true
   },
   "outputs": [],
   "source": [
    "from pyspark.mllib.recommendation import Rating,ALS"
   ]
  },
  {
   "cell_type": "code",
   "execution_count": 5,
   "metadata": {
    "collapsed": false
   },
   "outputs": [
    {
     "data": {
      "text/plain": [
       "PythonRDD[4] at RDD at PythonRDD.scala:43"
      ]
     },
     "execution_count": 5,
     "metadata": {},
     "output_type": "execute_result"
    }
   ],
   "source": [
    "uaData=rawUserArtistData\\\n",
    "    .map(lambda x:x.split(\" \"))\\\n",
    "    .filter(lambda x: float(x[2])>=20)\\\n",
    "    .map(lambda x:Rating(x[0],x[1],x[2]))\n",
    "uaData.persist()"
   ]
  },
  {
   "cell_type": "code",
   "execution_count": 6,
   "metadata": {
    "collapsed": false
   },
   "outputs": [
    {
     "data": {
      "text/plain": [
       "[Rating(user=1000002, product=1, rating=55.0),\n",
       " Rating(user=1000002, product=1000006, rating=33.0),\n",
       " Rating(user=1000002, product=1000009, rating=144.0),\n",
       " Rating(user=1000002, product=1000010, rating=314.0),\n",
       " Rating(user=1000002, product=1000014, rating=42.0),\n",
       " Rating(user=1000002, product=1000017, rating=69.0),\n",
       " Rating(user=1000002, product=1000024, rating=329.0),\n",
       " Rating(user=1000002, product=1000031, rating=47.0),\n",
       " Rating(user=1000002, product=1000055, rating=25.0),\n",
       " Rating(user=1000002, product=1000062, rating=71.0)]"
      ]
     },
     "execution_count": 6,
     "metadata": {},
     "output_type": "execute_result"
    }
   ],
   "source": [
    "uaData.take(10)"
   ]
  },
  {
   "cell_type": "code",
   "execution_count": 7,
   "metadata": {
    "collapsed": true
   },
   "outputs": [],
   "source": [
    "model=ALS.trainImplicit(uaData,10,5,0.01)"
   ]
  },
  {
   "cell_type": "code",
   "execution_count": 9,
   "metadata": {
    "collapsed": true
   },
   "outputs": [],
   "source": [
    "user = 1000002"
   ]
  },
  {
   "cell_type": "code",
   "execution_count": 10,
   "metadata": {
    "collapsed": true
   },
   "outputs": [],
   "source": [
    "recommendations=model.recommendProducts(user,5)"
   ]
  },
  {
   "cell_type": "code",
   "execution_count": 11,
   "metadata": {
    "collapsed": false
   },
   "outputs": [
    {
     "data": {
      "text/plain": [
       "[Rating(user=1000002, product=1000113, rating=1.0437801787633956),\n",
       " Rating(user=1000002, product=82, rating=0.9607146923882004),\n",
       " Rating(user=1000002, product=1205, rating=0.9428474092426006),\n",
       " Rating(user=1000002, product=1274, rating=0.9334984230868388),\n",
       " Rating(user=1000002, product=1394, rating=0.8537889582986908)]"
      ]
     },
     "execution_count": 11,
     "metadata": {},
     "output_type": "execute_result"
    }
   ],
   "source": [
    "recommendations"
   ]
  },
  {
   "cell_type": "code",
   "execution_count": 13,
   "metadata": {
    "collapsed": false
   },
   "outputs": [
    {
     "data": {
      "text/plain": [
       "PythonRDD[139] at RDD at PythonRDD.scala:43"
      ]
     },
     "execution_count": 13,
     "metadata": {},
     "output_type": "execute_result"
    }
   ],
   "source": [
    "artistsPath=\"hdfs:///user/swethakolalapudi/audio/artist_data.txt\"\n",
    "artistLookup=sc.textFile(artistsPath).map(lambda x:x.split(\"\\t\"))\n",
    "artistLookup.persist()"
   ]
  },
  {
   "cell_type": "code",
   "execution_count": 14,
   "metadata": {
    "collapsed": true
   },
   "outputs": [],
   "source": [
    "userArtists=rawUserArtistData\\\n",
    "    .map(lambda x:x.split(\" \"))\\\n",
    "    .filter(lambda x:int(x[0])==user and int(x[2])>50)\\\n",
    "    .map(lambda x:x[1]).collect()"
   ]
  },
  {
   "cell_type": "code",
   "execution_count": 15,
   "metadata": {
    "collapsed": false
   },
   "outputs": [
    {
     "name": "stdout",
     "output_type": "stream",
     "text": [
      "[u'Portishead']\n",
      "[u'A Perfect Circle']\n",
      "[u'Aerosmith']\n",
      "[u'Judas Priest']\n",
      "[u'Metallica']\n",
      "[u'Foo Fighters']\n",
      "[u'Counting Crows']\n",
      "[u'Creed']\n",
      "[u'Audioslave']\n",
      "[u'Muse']\n",
      "[u'(hed) Planet Earth']\n",
      "[u'Dire Straits']\n",
      "[u'Free']\n",
      "[u\"Fun Lovin' Criminals\"]\n",
      "[u\"Guns N' Roses\"]\n",
      "[u'Satriani, Joe']\n",
      "[u'A']\n",
      "[u'Joe Satriani']\n",
      "[u'Bruce Springsteen']\n",
      "[u'Goo Goo Dolls']\n",
      "[u'Fugees']\n",
      "[u'Michael Jackson']\n",
      "[u'Roachford']\n",
      "[u'Barenaked Ladies']\n",
      "[u'Buckcherry']\n",
      "[u'Jools Holland']\n",
      "[u'The Classic Chill Out Album']\n",
      "[u'Frankie Goes To Hollywood']\n",
      "[u\"King's X\"]\n",
      "[u'Mr. Big']\n",
      "[u'Dave Weckl']\n",
      "[u'Dan Reed Network']\n",
      "[u'Liquid Tension Experiment']\n",
      "[u'Level 42']\n",
      "[u'Rage Against the Machine']\n",
      "[u'Badly Drawn Boy']\n",
      "[u'Beth Orton']\n",
      "[u'Dido']\n",
      "[u'Lenny Kravitz']\n",
      "[u'Everclear']\n",
      "[u'Feeder']\n",
      "[u'Jimi Hendrix']\n",
      "[u'Red Hot Chili Peppers']\n",
      "[u'R.E.M.']\n",
      "[u'Desert Sessions']\n",
      "[u'The Kleptones']\n",
      "[u'Jamiroquai']\n",
      "[u'Led Zeppelin']\n",
      "[u'Marcus Miller']\n",
      "[u'Moby']\n",
      "[u'Miles Davis']\n",
      "[u'Electric Wizard']\n",
      "[u'Matchbox Twenty']\n",
      "[u'The Police']\n",
      "[u'Nina Simone']\n",
      "[u'Jeff Buckley']\n",
      "[u'Dream Theater']\n",
      "[u'Eels']\n",
      "[u'Nickelback']\n",
      "[u'Diana Krall']\n",
      "[u'The Jimi Hendrix Experience']\n",
      "[u'Pink']\n",
      "[u'Rammstein']\n",
      "[u'Norah Jones']\n",
      "[u'Ben Folds Five']\n",
      "[u'Radiohead']\n"
     ]
    }
   ],
   "source": [
    "for artist in userArtists: \n",
    "    print artistLookup.lookup(artist)"
   ]
  },
  {
   "cell_type": "code",
   "execution_count": null,
   "metadata": {
    "collapsed": true
   },
   "outputs": [],
   "source": [
    "for rating in recommendations: \n",
    "    print artistLookup.lookup(str(rating.product))"
   ]
  },
  {
   "cell_type": "code",
   "execution_count": null,
   "metadata": {
    "collapsed": true
   },
   "outputs": [],
   "source": []
  },
  {
   "cell_type": "code",
   "execution_count": null,
   "metadata": {
    "collapsed": true
   },
   "outputs": [],
   "source": []
  }
 ],
 "metadata": {
  "kernelspec": {
   "display_name": "Python 2",
   "language": "python",
   "name": "python2"
  },
  "language_info": {
   "codemirror_mode": {
    "name": "ipython",
    "version": 2
   },
   "file_extension": ".py",
   "mimetype": "text/x-python",
   "name": "python",
   "nbconvert_exporter": "python",
   "pygments_lexer": "ipython2",
   "version": "2.7.11"
  }
 },
 "nbformat": 4,
 "nbformat_minor": 0
}
